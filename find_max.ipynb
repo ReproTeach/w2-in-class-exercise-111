{
 "cells": [
  {
   "cell_type": "code",
   "execution_count": 15,
   "id": "674fb708-6289-46a1-91c3-181019d6a3eb",
   "metadata": {
    "tags": []
   },
   "outputs": [
    {
     "data": {
      "text/plain": [
       "[17, 5, 10, 13]"
      ]
     },
     "execution_count": 15,
     "metadata": {},
     "output_type": "execute_result"
    }
   ],
   "source": [
    "a_list = [17, 5, 10, 13]\n",
    "a_list"
   ]
  },
  {
   "cell_type": "code",
   "execution_count": 19,
   "id": "ca0de205-e742-4991-a748-190e1122a176",
   "metadata": {
    "tags": []
   },
   "outputs": [
    {
     "data": {
      "text/plain": [
       "17"
      ]
     },
     "execution_count": 19,
     "metadata": {},
     "output_type": "execute_result"
    }
   ],
   "source": [
    ">>> max(a_list)"
   ]
  },
  {
   "cell_type": "code",
   "execution_count": 35,
   "id": "058a03fd-465b-4e40-a23e-ef9615bae1d1",
   "metadata": {
    "tags": []
   },
   "outputs": [],
   "source": [
    "def get_max(a_list):\n",
    "    length = len(a_list)\n",
    "    num = 0\n",
    "    for i in range(length):\n",
    "        if(i == 0 or a_list[i] > num):\n",
    "            num = a_list[i]\n",
    "    return num"
   ]
  },
  {
   "cell_type": "code",
   "execution_count": 36,
   "id": "7234eebe-eeca-4f80-8670-5b1a9d5f784b",
   "metadata": {
    "tags": []
   },
   "outputs": [
    {
     "name": "stdout",
     "output_type": "stream",
     "text": [
      "17\n"
     ]
    }
   ],
   "source": [
    "print(get_max(a_list))"
   ]
  }
 ],
 "metadata": {
  "kernelspec": {
   "display_name": "Python 3 (ipykernel)",
   "language": "python",
   "name": "python3"
  },
  "language_info": {
   "codemirror_mode": {
    "name": "ipython",
    "version": 3
   },
   "file_extension": ".py",
   "mimetype": "text/x-python",
   "name": "python",
   "nbconvert_exporter": "python",
   "pygments_lexer": "ipython3",
   "version": "3.10.9"
  }
 },
 "nbformat": 4,
 "nbformat_minor": 5
}
